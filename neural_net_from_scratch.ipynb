{
  "nbformat": 4,
  "nbformat_minor": 0,
  "metadata": {
    "colab": {
      "name": "neural_net_from_scratch.ipynb",
      "version": "0.3.2",
      "provenance": []
    },
    "kernelspec": {
      "name": "python2",
      "display_name": "Python 2"
    }
  },
  "cells": [
    {
      "cell_type": "markdown",
      "metadata": {
        "id": "view-in-github",
        "colab_type": "text"
      },
      "source": [
        "[View in Colaboratory](https://colab.research.google.com/github/AmoDinho/DeepLearning-Masters/blob/master/neural_net_from_scratch.ipynb)"
      ]
    },
    {
      "metadata": {
        "id": "zQ_l0vyyAfHp",
        "colab_type": "code",
        "colab": {}
      },
      "cell_type": "code",
      "source": [
        "import numpy as np"
      ],
      "execution_count": 0,
      "outputs": []
    },
    {
      "metadata": {
        "id": "c9aJTI5FAydM",
        "colab_type": "code",
        "colab": {}
      },
      "cell_type": "code",
      "source": [
        "#Step 1 collect data\n",
        "x = np.array([[0,0,1],\n",
        "             [0,1,1],\n",
        "             [1,0,1],\n",
        "             [1,1,1]])\n",
        "\n",
        "y = np.array([[0],\n",
        "             [1],\n",
        "             [1],\n",
        "             [0]])"
      ],
      "execution_count": 0,
      "outputs": []
    },
    {
      "metadata": {
        "id": "XK_2SzS8BEST",
        "colab_type": "code",
        "colab": {
          "base_uri": "https://localhost:8080/",
          "height": 85
        },
        "outputId": "bd0583de-7d61-418f-cceb-360d6e3446b1"
      },
      "cell_type": "code",
      "source": [
        "x "
      ],
      "execution_count": 4,
      "outputs": [
        {
          "output_type": "execute_result",
          "data": {
            "text/plain": [
              "array([[0, 0, 1],\n",
              "       [0, 1, 1],\n",
              "       [1, 0, 1],\n",
              "       [1, 1, 1]])"
            ]
          },
          "metadata": {
            "tags": []
          },
          "execution_count": 4
        }
      ]
    },
    {
      "metadata": {
        "id": "npMmvbaWBHE5",
        "colab_type": "code",
        "colab": {
          "base_uri": "https://localhost:8080/",
          "height": 85
        },
        "outputId": "1dd69ae0-680c-45b5-df87-ac2f72e23b7f"
      },
      "cell_type": "code",
      "source": [
        "y"
      ],
      "execution_count": 5,
      "outputs": [
        {
          "output_type": "execute_result",
          "data": {
            "text/plain": [
              "array([[0],\n",
              "       [1],\n",
              "       [1],\n",
              "       [0]])"
            ]
          },
          "metadata": {
            "tags": []
          },
          "execution_count": 5
        }
      ]
    },
    {
      "metadata": {
        "id": "PQb12eYCBJjV",
        "colab_type": "code",
        "colab": {}
      },
      "cell_type": "code",
      "source": [
        "#step 2 build model\n",
        "\n",
        "num_epochs = 60000\n",
        "\n",
        "#initialize weights\n",
        "syn0 = 2*np.random.random((3,4)) - 1\n",
        "syn1 = 2*np.random.random((4,1)) - 1"
      ],
      "execution_count": 0,
      "outputs": []
    },
    {
      "metadata": {
        "id": "U_c6Rl8pBec7",
        "colab_type": "code",
        "colab": {}
      },
      "cell_type": "code",
      "source": [
        "def nonlin(x,deriv=False):\n",
        "    if(deriv==True):\n",
        "       return x*(1-x)\n",
        "      \n",
        "    return 1/(1+np.exp(-x))"
      ],
      "execution_count": 0,
      "outputs": []
    },
    {
      "metadata": {
        "id": "-HcobWf7Bt8c",
        "colab_type": "code",
        "colab": {
          "base_uri": "https://localhost:8080/",
          "height": 119
        },
        "outputId": "619d96de-3b38-4c7b-b519-521d62f6f16f"
      },
      "cell_type": "code",
      "source": [
        "#Step3 Train Model\n",
        "\n",
        "for j in xrange(num_epochs):\n",
        "  #feed forward through layers 0,1&2\n",
        "  k0 = x\n",
        "  k1 = nonlin(np.dot(k0,syn0))\n",
        "  k2 = nonlin(np.dot(k1,syn1))\n",
        "  \n",
        "  #how much did we miss the target value?\n",
        "  k2_error = y - k2\n",
        "  \n",
        "  if (j% 10000) == 0:\n",
        "    print \"Error :\" + str(np.mean(np.abs(k2_error)))\n",
        "    \n",
        "  #in what direction is the target value?\n",
        "  k2_delta = k2_error*nonlin(k2, deriv=True)\n",
        "  \n",
        "  #how much did each k1 value contribute to k2 error\n",
        "  k1_error = k2_delta.dot(syn1.T)\n",
        "  \n",
        "  k1_delta = k1_error*nonlin(k2,deriv=True)\n",
        "\n",
        "  \n",
        "  syn1 += k1.T.dot(k2_delta)\n",
        "  syn0 += k0.T.dot(k1_delta)"
      ],
      "execution_count": 8,
      "outputs": [
        {
          "output_type": "stream",
          "text": [
            "Error :0.4993381353563075\n",
            "Error :0.4998292816317284\n",
            "Error :0.49986305492941385\n",
            "Error :0.5001659480137454\n",
            "Error :0.4997604360466439\n",
            "Error :0.4992350175926995\n"
          ],
          "name": "stdout"
        }
      ]
    },
    {
      "metadata": {
        "id": "T87IspbrDHyv",
        "colab_type": "code",
        "colab": {}
      },
      "cell_type": "code",
      "source": [
        ""
      ],
      "execution_count": 0,
      "outputs": []
    }
  ]
}