{
  "nbformat": 4,
  "nbformat_minor": 0,
  "metadata": {
    "colab": {
      "name": "NLP Experiment_I.ipynb",
      "version": "0.3.2",
      "provenance": [],
      "include_colab_link": true
    },
    "kernelspec": {
      "name": "python3",
      "display_name": "Python 3"
    },
    "accelerator": "GPU"
  },
  "cells": [
    {
      "cell_type": "markdown",
      "metadata": {
        "id": "view-in-github",
        "colab_type": "text"
      },
      "source": [
        "[View in Colaboratory](https://colab.research.google.com/github/AmoDinho/DeepLearning-Masters/blob/master/NLP_Experiment_I.ipynb)"
      ]
    },
    {
      "metadata": {
        "id": "z6jie7PaVm2v",
        "colab_type": "code",
        "colab": {}
      },
      "cell_type": "code",
      "source": [
        ""
      ],
      "execution_count": 0,
      "outputs": []
    },
    {
      "metadata": {
        "id": "l32RrHS0YKpe",
        "colab_type": "text"
      },
      "cell_type": "markdown",
      "source": [
        "# NLP on Clothing Reviews\n",
        "\n",
        "The goal in this notebook is to learn about other NLP techniques and libraries. In this notebook specifically I will be using the NLTK and Sklearn libraries to complete the task\n",
        "\n",
        "### Resources:\n",
        "\n",
        "This notebook is 100% recreated from [Ankur Jain's Kaggle kernel](https://www.kaggle.com/ankkur13/prediction-based-on-bayes-algo-nlp-wordcloud)."
      ]
    },
    {
      "metadata": {
        "id": "mb8Pxl3CZD41",
        "colab_type": "code",
        "colab": {
          "base_uri": "https://localhost:8080/",
          "height": 666
        },
        "outputId": "98c29216-717b-45d0-ee2f-e26759685b76"
      },
      "cell_type": "code",
      "source": [
        "!pip install textblob\n",
        "!pip install wordcloud \n",
        "!pip install pandas_profiling\n",
        "!pip install stop_words"
      ],
      "execution_count": 2,
      "outputs": [
        {
          "output_type": "stream",
          "text": [
            "Collecting textblob\n",
            "\u001b[?25l  Downloading https://files.pythonhosted.org/packages/11/18/7f55c8be6d68ddc4036ffda5382ca51e23a1075987f708b9123712091af1/textblob-0.15.1-py2.py3-none-any.whl (631kB)\n",
            "\u001b[K    100% |████████████████████████████████| 634kB 6.0MB/s \n",
            "\u001b[?25hRequirement already satisfied: nltk>=3.1 in /usr/local/lib/python3.6/dist-packages (from textblob) (3.2.5)\n",
            "Requirement already satisfied: six in /usr/local/lib/python3.6/dist-packages (from nltk>=3.1->textblob) (1.11.0)\n",
            "Installing collected packages: textblob\n",
            "Successfully installed textblob-0.15.1\n",
            "Collecting wordcloud\n",
            "\u001b[?25l  Downloading https://files.pythonhosted.org/packages/ae/af/849edf14d573eba9c8082db898ff0d090428d9485371cc4fe21a66717ad2/wordcloud-1.5.0-cp36-cp36m-manylinux1_x86_64.whl (361kB)\n",
            "\u001b[K    100% |████████████████████████████████| 368kB 6.6MB/s \n",
            "\u001b[?25hRequirement already satisfied: numpy>=1.6.1 in /usr/local/lib/python3.6/dist-packages (from wordcloud) (1.14.6)\n",
            "Requirement already satisfied: pillow in /usr/local/lib/python3.6/dist-packages (from wordcloud) (4.0.0)\n",
            "Requirement already satisfied: olefile in /usr/local/lib/python3.6/dist-packages (from pillow->wordcloud) (0.46)\n",
            "Installing collected packages: wordcloud\n",
            "Successfully installed wordcloud-1.5.0\n",
            "Collecting pandas_profiling\n",
            "  Downloading https://files.pythonhosted.org/packages/a7/7c/84f15ee705793a3cdd43bc65e6166d65d36f743b815ea517b02582989533/pandas_profiling-1.4.1-py2.py3-none-any.whl\n",
            "Requirement already satisfied: jinja2>=2.8 in /usr/local/lib/python3.6/dist-packages (from pandas_profiling) (2.10)\n",
            "Requirement already satisfied: pandas>=0.19 in /usr/local/lib/python3.6/dist-packages (from pandas_profiling) (0.22.0)\n",
            "Requirement already satisfied: six>=1.9 in /usr/local/lib/python3.6/dist-packages (from pandas_profiling) (1.11.0)\n",
            "Requirement already satisfied: matplotlib>=1.4 in /usr/local/lib/python3.6/dist-packages (from pandas_profiling) (2.1.2)\n",
            "Requirement already satisfied: MarkupSafe>=0.23 in /usr/local/lib/python3.6/dist-packages (from jinja2>=2.8->pandas_profiling) (1.0)\n",
            "Requirement already satisfied: python-dateutil>=2 in /usr/local/lib/python3.6/dist-packages (from pandas>=0.19->pandas_profiling) (2.5.3)\n",
            "Requirement already satisfied: numpy>=1.9.0 in /usr/local/lib/python3.6/dist-packages (from pandas>=0.19->pandas_profiling) (1.14.6)\n",
            "Requirement already satisfied: pytz>=2011k in /usr/local/lib/python3.6/dist-packages (from pandas>=0.19->pandas_profiling) (2018.5)\n",
            "Requirement already satisfied: pyparsing!=2.0.4,!=2.1.2,!=2.1.6,>=2.0.1 in /usr/local/lib/python3.6/dist-packages (from matplotlib>=1.4->pandas_profiling) (2.2.1)\n",
            "Requirement already satisfied: cycler>=0.10 in /usr/local/lib/python3.6/dist-packages (from matplotlib>=1.4->pandas_profiling) (0.10.0)\n",
            "Installing collected packages: pandas-profiling\n",
            "Successfully installed pandas-profiling-1.4.1\n",
            "Collecting stop_words\n",
            "  Downloading https://files.pythonhosted.org/packages/1c/cb/d58290804b7a4c5daa42abbbe2a93c477ae53e45541b1825e86f0dfaaf63/stop-words-2018.7.23.tar.gz\n",
            "Building wheels for collected packages: stop-words\n",
            "  Running setup.py bdist_wheel for stop-words ... \u001b[?25l-\b \b\\\b \bdone\n",
            "\u001b[?25h  Stored in directory: /root/.cache/pip/wheels/75/37/6a/2b295e03bd07290f0da95c3adb9a74ba95fbc333aa8b0c7c78\n",
            "Successfully built stop-words\n",
            "Installing collected packages: stop-words\n",
            "Successfully installed stop-words-2018.7.23\n"
          ],
          "name": "stdout"
        }
      ]
    },
    {
      "metadata": {
        "id": "Bgiu4RURYil-",
        "colab_type": "code",
        "colab": {
          "base_uri": "https://localhost:8080/",
          "height": 663
        },
        "outputId": "5a34bafc-5017-428c-c314-1b0dbc1cbea8"
      },
      "cell_type": "code",
      "source": [
        "\n",
        "from sklearn.feature_extraction.text import CountVectorizer\n",
        "from sklearn.model_selection import train_test_split\n",
        "from sklearn.naive_bayes import MultinomialNB\n",
        "from sklearn.metrics import confusion_matrix, classification_report\n",
        "\n",
        "import string\n",
        "from textblob import TextBlob\n",
        "\n",
        "from collections import Counter\n",
        "from nltk.tokenize import RegexpTokenizer\n",
        "from stop_words import get_stop_words\n",
        "import nltk\n",
        "from nltk.corpus import stopwords\n",
        "from nltk import sent_tokenize, word_tokenize\n",
        "from wordcloud import WordCloud, STOPWORDS\n",
        "import re\n",
        "\n",
        "import seaborn as sns\n",
        "import matplotlib.pyplot as plt\n",
        "import pandas_profiling\n",
        "%matplotlib inline"
      ],
      "execution_count": 3,
      "outputs": [
        {
          "output_type": "stream",
          "text": [
            "/usr/local/lib/python3.6/dist-packages/pandas_profiling/plot.py:15: UserWarning: \n",
            "This call to matplotlib.use() has no effect because the backend has already\n",
            "been chosen; matplotlib.use() must be called *before* pylab, matplotlib.pyplot,\n",
            "or matplotlib.backends is imported for the first time.\n",
            "\n",
            "The backend was *originally* set to 'module://ipykernel.pylab.backend_inline' by the following code:\n",
            "  File \"/usr/lib/python3.6/runpy.py\", line 193, in _run_module_as_main\n",
            "    \"__main__\", mod_spec)\n",
            "  File \"/usr/lib/python3.6/runpy.py\", line 85, in _run_code\n",
            "    exec(code, run_globals)\n",
            "  File \"/usr/local/lib/python3.6/dist-packages/ipykernel_launcher.py\", line 16, in <module>\n",
            "    app.launch_new_instance()\n",
            "  File \"/usr/local/lib/python3.6/dist-packages/traitlets/config/application.py\", line 657, in launch_instance\n",
            "    app.initialize(argv)\n",
            "  File \"<decorator-gen-121>\", line 2, in initialize\n",
            "  File \"/usr/local/lib/python3.6/dist-packages/traitlets/config/application.py\", line 87, in catch_config_error\n",
            "    return method(app, *args, **kwargs)\n",
            "  File \"/usr/local/lib/python3.6/dist-packages/ipykernel/kernelapp.py\", line 462, in initialize\n",
            "    self.init_gui_pylab()\n",
            "  File \"/usr/local/lib/python3.6/dist-packages/ipykernel/kernelapp.py\", line 403, in init_gui_pylab\n",
            "    InteractiveShellApp.init_gui_pylab(self)\n",
            "  File \"/usr/local/lib/python3.6/dist-packages/IPython/core/shellapp.py\", line 213, in init_gui_pylab\n",
            "    r = enable(key)\n",
            "  File \"/usr/local/lib/python3.6/dist-packages/IPython/core/interactiveshell.py\", line 2950, in enable_matplotlib\n",
            "    pt.activate_matplotlib(backend)\n",
            "  File \"/usr/local/lib/python3.6/dist-packages/IPython/core/pylabtools.py\", line 309, in activate_matplotlib\n",
            "    matplotlib.pyplot.switch_backend(backend)\n",
            "  File \"/usr/local/lib/python3.6/dist-packages/matplotlib/pyplot.py\", line 232, in switch_backend\n",
            "    matplotlib.use(newbackend, warn=False, force=True)\n",
            "  File \"/usr/local/lib/python3.6/dist-packages/matplotlib/__init__.py\", line 1305, in use\n",
            "    reload(sys.modules['matplotlib.backends'])\n",
            "  File \"/usr/lib/python3.6/importlib/__init__.py\", line 166, in reload\n",
            "    _bootstrap._exec(spec, module)\n",
            "  File \"/usr/local/lib/python3.6/dist-packages/matplotlib/backends/__init__.py\", line 14, in <module>\n",
            "    line for line in traceback.format_stack()\n",
            "\n",
            "\n",
            "  matplotlib.use(BACKEND)\n"
          ],
          "name": "stderr"
        }
      ]
    },
    {
      "metadata": {
        "id": "TLyveuYGdBHr",
        "colab_type": "code",
        "colab": {}
      },
      "cell_type": "code",
      "source": [
        "import pandas as pd\n",
        "import numpy as np"
      ],
      "execution_count": 0,
      "outputs": []
    },
    {
      "metadata": {
        "id": "X1J5oDt2Zbvh",
        "colab_type": "code",
        "colab": {}
      },
      "cell_type": "code",
      "source": [
        ""
      ],
      "execution_count": 0,
      "outputs": []
    },
    {
      "metadata": {
        "id": "o1jJhwkiZc8E",
        "colab_type": "text"
      },
      "cell_type": "markdown",
      "source": [
        "Lets import the dataset from Kaggle"
      ]
    },
    {
      "metadata": {
        "id": "Zwrolyq3c3Ja",
        "colab_type": "code",
        "colab": {}
      },
      "cell_type": "code",
      "source": [
        "df = pd.read_csv(\"https://storage.googleapis.com/machinelearning_datasets/Womens%20Clothing%20E-Commerce%20Reviews.csv\")"
      ],
      "execution_count": 0,
      "outputs": []
    },
    {
      "metadata": {
        "id": "6o1oRN9qc3OW",
        "colab_type": "code",
        "colab": {
          "base_uri": "https://localhost:8080/",
          "height": 306
        },
        "outputId": "56c4fa50-50f4-4943-a4fe-f67e4e2e3122"
      },
      "cell_type": "code",
      "source": [
        "df.head()"
      ],
      "execution_count": 20,
      "outputs": [
        {
          "output_type": "execute_result",
          "data": {
            "text/html": [
              "<div>\n",
              "<style scoped>\n",
              "    .dataframe tbody tr th:only-of-type {\n",
              "        vertical-align: middle;\n",
              "    }\n",
              "\n",
              "    .dataframe tbody tr th {\n",
              "        vertical-align: top;\n",
              "    }\n",
              "\n",
              "    .dataframe thead th {\n",
              "        text-align: right;\n",
              "    }\n",
              "</style>\n",
              "<table border=\"1\" class=\"dataframe\">\n",
              "  <thead>\n",
              "    <tr style=\"text-align: right;\">\n",
              "      <th></th>\n",
              "      <th>Unnamed: 0</th>\n",
              "      <th>Clothing ID</th>\n",
              "      <th>Age</th>\n",
              "      <th>Title</th>\n",
              "      <th>Review Text</th>\n",
              "      <th>Rating</th>\n",
              "      <th>Recommended IND</th>\n",
              "      <th>Positive Feedback Count</th>\n",
              "      <th>Division Name</th>\n",
              "      <th>Department Name</th>\n",
              "      <th>Class Name</th>\n",
              "    </tr>\n",
              "  </thead>\n",
              "  <tbody>\n",
              "    <tr>\n",
              "      <th>0</th>\n",
              "      <td>0</td>\n",
              "      <td>767</td>\n",
              "      <td>33</td>\n",
              "      <td>NaN</td>\n",
              "      <td>Absolutely wonderful - silky and sexy and comf...</td>\n",
              "      <td>4</td>\n",
              "      <td>1</td>\n",
              "      <td>0</td>\n",
              "      <td>Initmates</td>\n",
              "      <td>Intimate</td>\n",
              "      <td>Intimates</td>\n",
              "    </tr>\n",
              "    <tr>\n",
              "      <th>1</th>\n",
              "      <td>1</td>\n",
              "      <td>1080</td>\n",
              "      <td>34</td>\n",
              "      <td>NaN</td>\n",
              "      <td>Love this dress!  it's sooo pretty.  i happene...</td>\n",
              "      <td>5</td>\n",
              "      <td>1</td>\n",
              "      <td>4</td>\n",
              "      <td>General</td>\n",
              "      <td>Dresses</td>\n",
              "      <td>Dresses</td>\n",
              "    </tr>\n",
              "    <tr>\n",
              "      <th>2</th>\n",
              "      <td>2</td>\n",
              "      <td>1077</td>\n",
              "      <td>60</td>\n",
              "      <td>Some major design flaws</td>\n",
              "      <td>I had such high hopes for this dress and reall...</td>\n",
              "      <td>3</td>\n",
              "      <td>0</td>\n",
              "      <td>0</td>\n",
              "      <td>General</td>\n",
              "      <td>Dresses</td>\n",
              "      <td>Dresses</td>\n",
              "    </tr>\n",
              "    <tr>\n",
              "      <th>3</th>\n",
              "      <td>3</td>\n",
              "      <td>1049</td>\n",
              "      <td>50</td>\n",
              "      <td>My favorite buy!</td>\n",
              "      <td>I love, love, love this jumpsuit. it's fun, fl...</td>\n",
              "      <td>5</td>\n",
              "      <td>1</td>\n",
              "      <td>0</td>\n",
              "      <td>General Petite</td>\n",
              "      <td>Bottoms</td>\n",
              "      <td>Pants</td>\n",
              "    </tr>\n",
              "    <tr>\n",
              "      <th>4</th>\n",
              "      <td>4</td>\n",
              "      <td>847</td>\n",
              "      <td>47</td>\n",
              "      <td>Flattering shirt</td>\n",
              "      <td>This shirt is very flattering to all due to th...</td>\n",
              "      <td>5</td>\n",
              "      <td>1</td>\n",
              "      <td>6</td>\n",
              "      <td>General</td>\n",
              "      <td>Tops</td>\n",
              "      <td>Blouses</td>\n",
              "    </tr>\n",
              "  </tbody>\n",
              "</table>\n",
              "</div>"
            ],
            "text/plain": [
              "   Unnamed: 0  Clothing ID  Age                    Title  \\\n",
              "0           0          767   33                      NaN   \n",
              "1           1         1080   34                      NaN   \n",
              "2           2         1077   60  Some major design flaws   \n",
              "3           3         1049   50         My favorite buy!   \n",
              "4           4          847   47         Flattering shirt   \n",
              "\n",
              "                                         Review Text  Rating  Recommended IND  \\\n",
              "0  Absolutely wonderful - silky and sexy and comf...       4                1   \n",
              "1  Love this dress!  it's sooo pretty.  i happene...       5                1   \n",
              "2  I had such high hopes for this dress and reall...       3                0   \n",
              "3  I love, love, love this jumpsuit. it's fun, fl...       5                1   \n",
              "4  This shirt is very flattering to all due to th...       5                1   \n",
              "\n",
              "   Positive Feedback Count   Division Name Department Name Class Name  \n",
              "0                        0       Initmates        Intimate  Intimates  \n",
              "1                        4         General         Dresses    Dresses  \n",
              "2                        0         General         Dresses    Dresses  \n",
              "3                        0  General Petite         Bottoms      Pants  \n",
              "4                        6         General            Tops    Blouses  "
            ]
          },
          "metadata": {
            "tags": []
          },
          "execution_count": 20
        }
      ]
    },
    {
      "metadata": {
        "id": "0aX_MyjKeE4u",
        "colab_type": "code",
        "colab": {
          "base_uri": "https://localhost:8080/",
          "height": 5389
        },
        "outputId": "bc3a8501-c9a1-4f0f-ec2d-c23c0a074eb8"
      },
      "cell_type": "code",
      "source": [
        "df.info"
      ],
      "execution_count": 24,
      "outputs": [
        {
          "output_type": "execute_result",
          "data": {
            "text/plain": [
              "<bound method DataFrame.info of        Unnamed: 0  Clothing ID  Age  \\\n",
              "0               0          767   33   \n",
              "1               1         1080   34   \n",
              "2               2         1077   60   \n",
              "3               3         1049   50   \n",
              "4               4          847   47   \n",
              "5               5         1080   49   \n",
              "6               6          858   39   \n",
              "7               7          858   39   \n",
              "8               8         1077   24   \n",
              "9               9         1077   34   \n",
              "10             10         1077   53   \n",
              "11             11         1095   39   \n",
              "12             12         1095   53   \n",
              "13             13          767   44   \n",
              "14             14         1077   50   \n",
              "15             15         1065   47   \n",
              "16             16         1065   34   \n",
              "17             17          853   41   \n",
              "18             18         1120   32   \n",
              "19             19         1077   47   \n",
              "20             20          847   33   \n",
              "21             21         1080   55   \n",
              "22             22         1077   31   \n",
              "23             23         1077   34   \n",
              "24             24          847   55   \n",
              "25             25          697   31   \n",
              "26             26          949   33   \n",
              "27             27         1003   31   \n",
              "28             28          684   53   \n",
              "29             29            4   28   \n",
              "...           ...          ...  ...   \n",
              "23456       23456         1104   35   \n",
              "23457       23457          262   49   \n",
              "23458       23458          862   63   \n",
              "23459       23459         1094   57   \n",
              "23460       23460         1078   34   \n",
              "23461       23461          262   49   \n",
              "23462       23462          999   24   \n",
              "23463       23463          262   65   \n",
              "23464       23464         1104   42   \n",
              "23465       23465         1078   41   \n",
              "23466       23466         1104   34   \n",
              "23467       23467         1104   60   \n",
              "23468       23468          721   35   \n",
              "23469       23469          262   50   \n",
              "23470       23470         1104   39   \n",
              "23471       23471          262   31   \n",
              "23472       23472          855   32   \n",
              "23473       23473         1104   29   \n",
              "23474       23474         1104   32   \n",
              "23475       23475         1104   41   \n",
              "23476       23476          522   27   \n",
              "23477       23477         1094   39   \n",
              "23478       23478         1104   32   \n",
              "23479       23479         1005   42   \n",
              "23480       23480          862   35   \n",
              "23481       23481         1104   34   \n",
              "23482       23482          862   48   \n",
              "23483       23483         1104   31   \n",
              "23484       23484         1084   28   \n",
              "23485       23485         1104   52   \n",
              "\n",
              "                                                   Title  \\\n",
              "0                                                    NaN   \n",
              "1                                                    NaN   \n",
              "2                                Some major design flaws   \n",
              "3                                       My favorite buy!   \n",
              "4                                       Flattering shirt   \n",
              "5                                Not for the very petite   \n",
              "6                                   Cagrcoal shimmer fun   \n",
              "7                   Shimmer, surprisingly goes with lots   \n",
              "8                                             Flattering   \n",
              "9                                      Such a fun dress!   \n",
              "10          Dress looks like it's made of cheap material   \n",
              "11                                                   NaN   \n",
              "12                                            Perfect!!!   \n",
              "13                                              Runs big   \n",
              "14                   Pretty party dress with some issues   \n",
              "15                             Nice, but not for my body   \n",
              "16     You need to be at least average height, or taller   \n",
              "17                          Looks great with white pants   \n",
              "18                                   Super cute and cozy   \n",
              "19                               Stylish and comfortable   \n",
              "20                                     Cute, crisp shirt   \n",
              "21                                             I'm torn!   \n",
              "22                                Not what it looks like   \n",
              "23                           Like it, but don't love it.   \n",
              "24                                             Versatile   \n",
              "25                                            Falls flat   \n",
              "26                                   Huge disappointment   \n",
              "27                                   Loved, but returned   \n",
              "28                                        Great shirt!!!   \n",
              "29                                  Great layering piece   \n",
              "...                                                  ...   \n",
              "23456                Flattering and lovely sweater dress   \n",
              "23457                                           Adorable   \n",
              "23458                                                NaN   \n",
              "23459                                Perfect except slip   \n",
              "23460                                   Such high hopes!   \n",
              "23461         Comfortable but not super-flattering on me   \n",
              "23462                                           Its okay   \n",
              "23463                                        Comfy pants   \n",
              "23464                                        Compliments   \n",
              "23465                                       Falls nicely   \n",
              "23466                                     Cute and comfy   \n",
              "23467                                  Super flattering!   \n",
              "23468                                      Sweet stripes   \n",
              "23469                                     Comfy and cute   \n",
              "23470                                                NaN   \n",
              "23471                                 Awkward fit for me   \n",
              "23472                                   Perfectly drapey   \n",
              "23473                                      Perfect dress   \n",
              "23474                             Much better in person!   \n",
              "23475                                         Cute dress   \n",
              "23476                                            Cheeky!   \n",
              "23477                                         Entrancing   \n",
              "23478                                       Unflattering   \n",
              "23479                                  What a fun piece!   \n",
              "23480                                                NaN   \n",
              "23481                     Great dress for many occasions   \n",
              "23482                         Wish it was made of cotton   \n",
              "23483                              Cute, but see through   \n",
              "23484  Very cute dress, perfect for summer parties an...   \n",
              "23485                    Please make more like this one!   \n",
              "\n",
              "                                             Review Text  Rating  \\\n",
              "0      Absolutely wonderful - silky and sexy and comf...       4   \n",
              "1      Love this dress!  it's sooo pretty.  i happene...       5   \n",
              "2      I had such high hopes for this dress and reall...       3   \n",
              "3      I love, love, love this jumpsuit. it's fun, fl...       5   \n",
              "4      This shirt is very flattering to all due to th...       5   \n",
              "5      I love tracy reese dresses, but this one is no...       2   \n",
              "6      I aded this in my basket at hte last mintue to...       5   \n",
              "7      I ordered this in carbon for store pick up, an...       4   \n",
              "8      I love this dress. i usually get an xs but it ...       5   \n",
              "9      I'm 5\"5' and 125 lbs. i ordered the s petite t...       5   \n",
              "10     Dress runs small esp where the zipper area run...       3   \n",
              "11     This dress is perfection! so pretty and flatte...       5   \n",
              "12     More and more i find myself reliant on the rev...       5   \n",
              "13     Bought the black xs to go under the larkspur m...       5   \n",
              "14     This is a nice choice for holiday gatherings. ...       3   \n",
              "15     I took these out of the package and wanted the...       4   \n",
              "16     Material and color is nice.  the leg opening i...       3   \n",
              "17     Took a chance on this blouse and so glad i did...       5   \n",
              "18     A flattering, super cozy coat.  will work well...       5   \n",
              "19     I love the look and feel of this tulle dress. ...       5   \n",
              "20     If this product was in petite, i would get the...       4   \n",
              "21     I'm upset because for the price of the dress, ...       4   \n",
              "22     First of all, this is not pullover styling. th...       2   \n",
              "23     Cute little dress fits tts. it is a little hig...       3   \n",
              "24     I love this shirt because when i first saw it,...       5   \n",
              "25     Loved the material, but i didnt really look at...       3   \n",
              "26     I have been waiting for this sweater coat to s...       2   \n",
              "27     The colors weren't what i expected either. the...       4   \n",
              "28     I have several of goodhyouman shirts and i get...       5   \n",
              "29     This sweater is so comfy and classic - it bala...       5   \n",
              "...                                                  ...     ...   \n",
              "23456  I have been on a search for a dress with sleev...       5   \n",
              "23457  These pants are soft, fun print and comfy. the...       5   \n",
              "23458  This is my new favorite sweater. it is lightwe...       5   \n",
              "23459  This is my new favorite dress! my only complai...       4   \n",
              "23460  I purchased this for a very good price and i t...       3   \n",
              "23461  I tried these on at the store and the fit was ...       4   \n",
              "23462  The pattern of this skirt is adorable and look...       3   \n",
              "23463  These pants overall are very comfortable, but ...       4   \n",
              "23464  I wore this dress to work the other day and go...       5   \n",
              "23465  I bought this dress for work and post work hap...       5   \n",
              "23466  This dress has a great design and fits very we...       4   \n",
              "23467  I worry when i have an elastic waist, or somet...       5   \n",
              "23468  I love this little chemise! the adjustable str...       5   \n",
              "23469  My size was not available so based on reviews ...       4   \n",
              "23470                                                NaN       5   \n",
              "23471  Love the way these pants look in the pictures,...       4   \n",
              "23472  I saw the shirt on the retailer website and ne...       5   \n",
              "23473  Great quality and extremely flattering. bonus ...       5   \n",
              "23474  Yes, this is a great dress! i wasn't sure abou...       5   \n",
              "23475  Cute dress but not for me.  the waist is too h...       3   \n",
              "23476  These bottoms are very cute but defiantly chee...       4   \n",
              "23477  I'm so impressed with the beautiful color comb...       4   \n",
              "23478  I was surprised at the positive reviews for th...       1   \n",
              "23479  So i wasn't sure about ordering this skirt bec...       5   \n",
              "23480                                                NaN       5   \n",
              "23481  I was very happy to snag this dress at such a ...       5   \n",
              "23482  It reminds me of maternity clothes. soft, stre...       3   \n",
              "23483  This fit well, but the top was very see throug...       3   \n",
              "23484  I bought this dress for a wedding i have this ...       3   \n",
              "23485  This dress in a lovely platinum is feminine an...       5   \n",
              "\n",
              "       Recommended IND  Positive Feedback Count   Division Name  \\\n",
              "0                    1                        0       Initmates   \n",
              "1                    1                        4         General   \n",
              "2                    0                        0         General   \n",
              "3                    1                        0  General Petite   \n",
              "4                    1                        6         General   \n",
              "5                    0                        4         General   \n",
              "6                    1                        1  General Petite   \n",
              "7                    1                        4  General Petite   \n",
              "8                    1                        0         General   \n",
              "9                    1                        0         General   \n",
              "10                   0                       14         General   \n",
              "11                   1                        2  General Petite   \n",
              "12                   1                        2  General Petite   \n",
              "13                   1                        0       Initmates   \n",
              "14                   1                        1         General   \n",
              "15                   1                        3         General   \n",
              "16                   1                        2         General   \n",
              "17                   1                        0         General   \n",
              "18                   1                        0         General   \n",
              "19                   1                        0         General   \n",
              "20                   1                        2         General   \n",
              "21                   1                       14         General   \n",
              "22                   0                        7         General   \n",
              "23                   1                        0         General   \n",
              "24                   1                        0         General   \n",
              "25                   0                        0       Initmates   \n",
              "26                   0                        0         General   \n",
              "27                   1                        0         General   \n",
              "28                   1                        2       Initmates   \n",
              "29                   1                        0         General   \n",
              "...                ...                      ...             ...   \n",
              "23456                1                        3  General Petite   \n",
              "23457                1                        3  General Petite   \n",
              "23458                1                        0  General Petite   \n",
              "23459                1                        3  General Petite   \n",
              "23460                0                        0         General   \n",
              "23461                1                        1  General Petite   \n",
              "23462                1                        0         General   \n",
              "23463                1                        1  General Petite   \n",
              "23464                1                        3  General Petite   \n",
              "23465                1                        0         General   \n",
              "23466                1                        0  General Petite   \n",
              "23467                1                       23  General Petite   \n",
              "23468                1                        3  General Petite   \n",
              "23469                1                        0  General Petite   \n",
              "23470                1                        0  General Petite   \n",
              "23471                1                        0  General Petite   \n",
              "23472                1                        0         General   \n",
              "23473                1                        1  General Petite   \n",
              "23474                1                        0  General Petite   \n",
              "23475                1                        0  General Petite   \n",
              "23476                1                        0       Initmates   \n",
              "23477                1                        5  General Petite   \n",
              "23478                0                        0  General Petite   \n",
              "23479                1                        0  General Petite   \n",
              "23480                1                        0  General Petite   \n",
              "23481                1                        0  General Petite   \n",
              "23482                1                        0  General Petite   \n",
              "23483                0                        1  General Petite   \n",
              "23484                1                        2         General   \n",
              "23485                1                       22  General Petite   \n",
              "\n",
              "      Department Name Class Name  \n",
              "0            Intimate  Intimates  \n",
              "1             Dresses    Dresses  \n",
              "2             Dresses    Dresses  \n",
              "3             Bottoms      Pants  \n",
              "4                Tops    Blouses  \n",
              "5             Dresses    Dresses  \n",
              "6                Tops      Knits  \n",
              "7                Tops      Knits  \n",
              "8             Dresses    Dresses  \n",
              "9             Dresses    Dresses  \n",
              "10            Dresses    Dresses  \n",
              "11            Dresses    Dresses  \n",
              "12            Dresses    Dresses  \n",
              "13           Intimate  Intimates  \n",
              "14            Dresses    Dresses  \n",
              "15            Bottoms      Pants  \n",
              "16            Bottoms      Pants  \n",
              "17               Tops    Blouses  \n",
              "18            Jackets  Outerwear  \n",
              "19            Dresses    Dresses  \n",
              "20               Tops    Blouses  \n",
              "21            Dresses    Dresses  \n",
              "22            Dresses    Dresses  \n",
              "23            Dresses    Dresses  \n",
              "24               Tops    Blouses  \n",
              "25           Intimate     Lounge  \n",
              "26               Tops   Sweaters  \n",
              "27            Bottoms     Skirts  \n",
              "28           Intimate     Lounge  \n",
              "29               Tops   Sweaters  \n",
              "...               ...        ...  \n",
              "23456         Dresses    Dresses  \n",
              "23457        Intimate     Lounge  \n",
              "23458            Tops      Knits  \n",
              "23459         Dresses    Dresses  \n",
              "23460         Dresses    Dresses  \n",
              "23461        Intimate     Lounge  \n",
              "23462         Bottoms     Skirts  \n",
              "23463        Intimate     Lounge  \n",
              "23464         Dresses    Dresses  \n",
              "23465         Dresses    Dresses  \n",
              "23466         Dresses    Dresses  \n",
              "23467         Dresses    Dresses  \n",
              "23468        Intimate     Lounge  \n",
              "23469        Intimate     Lounge  \n",
              "23470         Dresses    Dresses  \n",
              "23471        Intimate     Lounge  \n",
              "23472            Tops      Knits  \n",
              "23473         Dresses    Dresses  \n",
              "23474         Dresses    Dresses  \n",
              "23475         Dresses    Dresses  \n",
              "23476        Intimate       Swim  \n",
              "23477         Dresses    Dresses  \n",
              "23478         Dresses    Dresses  \n",
              "23479         Bottoms     Skirts  \n",
              "23480            Tops      Knits  \n",
              "23481         Dresses    Dresses  \n",
              "23482            Tops      Knits  \n",
              "23483         Dresses    Dresses  \n",
              "23484         Dresses    Dresses  \n",
              "23485         Dresses    Dresses  \n",
              "\n",
              "[23486 rows x 11 columns]>"
            ]
          },
          "metadata": {
            "tags": []
          },
          "execution_count": 24
        }
      ]
    },
    {
      "metadata": {
        "id": "QkSLDq2ec3U4",
        "colab_type": "code",
        "colab": {}
      },
      "cell_type": "code",
      "source": [
        "df = df.drop('Unnamed: 0', 1)"
      ],
      "execution_count": 0,
      "outputs": []
    },
    {
      "metadata": {
        "id": "ZFRg6T3_c3jX",
        "colab_type": "code",
        "colab": {
          "base_uri": "https://localhost:8080/",
          "height": 102
        },
        "outputId": "43de1d9c-cc40-47ab-9c90-0e24a0a38664"
      },
      "cell_type": "code",
      "source": [
        "nltk.download('stopwords')\n",
        "nltk.download('punkt')"
      ],
      "execution_count": 7,
      "outputs": [
        {
          "output_type": "stream",
          "text": [
            "[nltk_data] Downloading package stopwords to /root/nltk_data...\n",
            "[nltk_data]   Unzipping corpora/stopwords.zip.\n",
            "[nltk_data] Downloading package punkt to /root/nltk_data...\n",
            "[nltk_data]   Unzipping tokenizers/punkt.zip.\n"
          ],
          "name": "stdout"
        },
        {
          "output_type": "execute_result",
          "data": {
            "text/plain": [
              "True"
            ]
          },
          "metadata": {
            "tags": []
          },
          "execution_count": 7
        }
      ]
    },
    {
      "metadata": {
        "id": "zyg_3Q0YeNhq",
        "colab_type": "text"
      },
      "cell_type": "markdown",
      "source": [
        "# Preprocessing"
      ]
    },
    {
      "metadata": {
        "id": "Ta76Ki-4c3hX",
        "colab_type": "code",
        "colab": {
          "base_uri": "https://localhost:8080/",
          "height": 640
        },
        "outputId": "821806c7-fb37-42ae-911c-c239ed9bfee6"
      },
      "cell_type": "code",
      "source": [
        "top_N =100\n",
        "\n",
        "#WE need to convert the list into a text\n",
        "\n",
        "a = df['Review Text'].str.lower().str.cat(sep=' ')\n",
        "\n",
        "#remove punctuation, numbers \n",
        "b = re.sub('[^A-Za-z]+', ' ', a)\n",
        "\n",
        "#get rid of the stop words\n",
        "stop_words = list(get_stop_words('en'))\n",
        "nltk_words = list(stopwords.words('english'))\n",
        "stop_words.extend(nltk_words)\n",
        "\n",
        "word_tokens = word_tokenize(b)\n",
        "filtered_sentence = [w for w in word_tokens if not w in stop_words]\n",
        "filtered_sentence = []\n",
        "for w in word_tokens:\n",
        "    if w not in stop_words:\n",
        "       filtered_sentence.append(w)\n",
        "        \n",
        "#get rid of characters with length < 2\n",
        "without_single_chr = [word for word in filtered_sentence if len(word) > 2]\n",
        "\n",
        "# remove numbers\n",
        "cleaned_data_title = [word for word in without_single_chr if not word.isnumeric()]\n",
        "\n",
        "# calculate frequency distribution\n",
        "word_dist = nltk.FreqDist(cleaned_data_title)\n",
        "rslt = pd.DataFrame(word_dist.most_common(top_N),\n",
        "                   columns=['Word', 'Frequency'])\n",
        "\n",
        "plt.figure(figsize=(10,10))\n",
        "sns.set_style(\"whitegrid\")\n",
        "ax = sns.barplot(x=\"Word\", y=\"Frequency\", data=rslt.head(7))\n",
        "\n"
      ],
      "execution_count": 16,
      "outputs": [
        {
          "output_type": "stream",
          "text": [
            "/usr/local/lib/python3.6/dist-packages/seaborn/categorical.py:1428: FutureWarning: remove_na is deprecated and is a private function. Do not use.\n",
            "  stat_data = remove_na(group_data)\n"
          ],
          "name": "stderr"
        },
        {
          "output_type": "display_data",
          "data": {
            "image/png": "[encoded data removed]",
            "text/plain": [
              "<matplotlib.figure.Figure at 0x7f3a3e1fcf98>"
            ]
          },
          "metadata": {
            "tags": []
          }
        }
      ]
    },
    {
      "metadata": {
        "id": "B6tlpvbFc3ff",
        "colab_type": "code",
        "colab": {}
      },
      "cell_type": "code",
      "source": [
        "def wc(data,bgcolor,title):\n",
        "    plt.figure(figsize=(10,10))\n",
        "    wc = WordCloud(background_color=bgcolor, max_words=1000, max_font_size=50)\n",
        "    wc.generate(' '.join(data))\n",
        "    plt.imshow(wc)\n",
        "    plt.axis('off')"
      ],
      "execution_count": 0,
      "outputs": []
    },
    {
      "metadata": {
        "id": "TghlXMgWc3eI",
        "colab_type": "code",
        "colab": {
          "base_uri": "https://localhost:8080/",
          "height": 330
        },
        "outputId": "5518d85b-86d5-4b08-9c15-2b09027c82ef"
      },
      "cell_type": "code",
      "source": [
        "wc(cleaned_data_title, 'white', 'Most Used Words')"
      ],
      "execution_count": 20,
      "outputs": [
        {
          "output_type": "display_data",
          "data": {
            "image/png": "[encoded data removed]",
            "text/plain": [
              "<matplotlib.figure.Figure at 0x7f3a3a172080>"
            ]
          },
          "metadata": {
            "tags": []
          }
        }
      ]
    },
    {
      "metadata": {
        "id": "KQBK8RAWqL-O",
        "colab_type": "code",
        "colab": {}
      },
      "cell_type": "code",
      "source": [
        "def text_process(review):\n",
        "    nopunc=[word for word in review if word not in string.punctuation]\n",
        "    nopunc=''.join(nopunc)\n",
        "    return [word for word in nopunc.split() if word.lower() not in stopwords.words('english')]"
      ],
      "execution_count": 0,
      "outputs": []
    },
    {
      "metadata": {
        "id": "Q6tiYLyic3Ye",
        "colab_type": "code",
        "colab": {
          "base_uri": "https://localhost:8080/",
          "height": 119
        },
        "outputId": "e66b2f42-dbb6-4797-d85c-0c6d9f72d3cd"
      },
      "cell_type": "code",
      "source": [
        "df['Review Text'].head(5).apply(text_process)"
      ],
      "execution_count": 22,
      "outputs": [
        {
          "output_type": "execute_result",
          "data": {
            "text/plain": [
              "0    [Absolutely, wonderful, silky, sexy, comfortable]\n",
              "1    [Love, dress, sooo, pretty, happened, find, st...\n",
              "2    [high, hopes, dress, really, wanted, work, ini...\n",
              "3    [love, love, love, jumpsuit, fun, flirty, fabu...\n",
              "4    [shirt, flattering, due, adjustable, front, ti...\n",
              "Name: Review Text, dtype: object"
            ]
          },
          "metadata": {
            "tags": []
          },
          "execution_count": 22
        }
      ]
    },
    {
      "metadata": {
        "id": "fsKovGoSc3R_",
        "colab_type": "code",
        "colab": {}
      },
      "cell_type": "code",
      "source": [
        ""
      ],
      "execution_count": 0,
      "outputs": []
    },
    {
      "metadata": {
        "id": "dUVaECIBtXKW",
        "colab_type": "text"
      },
      "cell_type": "markdown",
      "source": [
        "This is supposed to remove punctuation , stop words and convert them into lowercase.\n"
      ]
    },
    {
      "metadata": {
        "id": "4gBV1nKNtxJC",
        "colab_type": "code",
        "colab": {}
      },
      "cell_type": "code",
      "source": [
        ""
      ],
      "execution_count": 0,
      "outputs": []
    },
    {
      "metadata": {
        "id": "CfEsMpukt5MR",
        "colab_type": "text"
      },
      "cell_type": "markdown",
      "source": [
        "**Vectorization**\n",
        "\n",
        "We will use Scikit-learn's `CountVectorizer` to convert text collection into a matrix of token counts."
      ]
    },
    {
      "metadata": {
        "id": "7xFbForutxZK",
        "colab_type": "code",
        "colab": {}
      },
      "cell_type": "code",
      "source": [
        "df = df.dropna(axis=0, how='any')\n",
        "rating_class = df[(df['Rating'] ==1) | (df['Rating'] == 5)]\n",
        "X_review=rating_class['Review Text']\n",
        "y=rating_class['Rating']"
      ],
      "execution_count": 0,
      "outputs": []
    },
    {
      "metadata": {
        "id": "yI5LnfthuMo3",
        "colab_type": "code",
        "colab": {}
      },
      "cell_type": "code",
      "source": [
        "bow_transformer=CountVectorizer(analyzer=text_process).fit(X_review)"
      ],
      "execution_count": 0,
      "outputs": []
    },
    {
      "metadata": {
        "id": "oUZ0vLyzuMvA",
        "colab_type": "code",
        "colab": {
          "base_uri": "https://localhost:8080/",
          "height": 34
        },
        "outputId": "b0233ae0-9e31-4cdd-f49e-f404b5b203a3"
      },
      "cell_type": "code",
      "source": [
        "print(len(bow_transformer.vocabulary_))"
      ],
      "execution_count": 27,
      "outputs": [
        {
          "output_type": "stream",
          "text": [
            "13952\n"
          ],
          "name": "stdout"
        }
      ]
    },
    {
      "metadata": {
        "id": "im8ts7PxwX0F",
        "colab_type": "text"
      },
      "cell_type": "markdown",
      "source": [
        ""
      ]
    },
    {
      "metadata": {
        "id": "37KfbnM9uMz_",
        "colab_type": "code",
        "colab": {}
      },
      "cell_type": "code",
      "source": [
        "X_review = bow_transformer.transform(X_review)"
      ],
      "execution_count": 0,
      "outputs": []
    },
    {
      "metadata": {
        "id": "Zz_sl7JKwdeS",
        "colab_type": "text"
      },
      "cell_type": "markdown",
      "source": [
        "**Training and test Data**"
      ]
    },
    {
      "metadata": {
        "id": "ECDhZ1b1whnY",
        "colab_type": "code",
        "colab": {}
      },
      "cell_type": "code",
      "source": [
        "X_train, X_test, y_train, y_test = train_test_split(X_review, y, test_size=0.3,random_state=101)"
      ],
      "execution_count": 0,
      "outputs": []
    },
    {
      "metadata": {
        "id": "M65nRd_pw1E4",
        "colab_type": "text"
      },
      "cell_type": "markdown",
      "source": [
        "Lets train our model with the Naive Bayes ML Algorithim"
      ]
    },
    {
      "metadata": {
        "id": "ICx_v5oUwhw9",
        "colab_type": "code",
        "colab": {
          "base_uri": "https://localhost:8080/",
          "height": 34
        },
        "outputId": "c427580b-9dc9-47aa-9b3b-235948d5e61d"
      },
      "cell_type": "code",
      "source": [
        "nb = MultinomialNB()\n",
        "nb.fit(X_train, y_train)"
      ],
      "execution_count": 32,
      "outputs": [
        {
          "output_type": "execute_result",
          "data": {
            "text/plain": [
              "MultinomialNB(alpha=1.0, class_prior=None, fit_prior=True)"
            ]
          },
          "metadata": {
            "tags": []
          },
          "execution_count": 32
        }
      ]
    },
    {
      "metadata": {
        "id": "DeSmcgiMxSu3",
        "colab_type": "text"
      },
      "cell_type": "markdown",
      "source": [
        "Test the model:\n",
        "\n"
      ]
    },
    {
      "metadata": {
        "id": "pDRaj5GDxTgt",
        "colab_type": "code",
        "colab": {}
      },
      "cell_type": "code",
      "source": [
        "predict=nb.predict(X_test)"
      ],
      "execution_count": 0,
      "outputs": []
    },
    {
      "metadata": {
        "id": "Y35_C-XBxd8i",
        "colab_type": "text"
      },
      "cell_type": "markdown",
      "source": [
        "We need to evaluate that our model against actual ratings in `y_test` using a confusion matrix."
      ]
    },
    {
      "metadata": {
        "id": "JTQTSDmkxYKf",
        "colab_type": "code",
        "colab": {
          "base_uri": "https://localhost:8080/",
          "height": 204
        },
        "outputId": "592a9562-92b7-4ec0-d07c-b90b27ca6b4a"
      },
      "cell_type": "code",
      "source": [
        "print(confusion_matrix(y_test, predict))\n",
        "print('\\n')\n",
        "print(classification_report(y_test, predict))"
      ],
      "execution_count": 35,
      "outputs": [
        {
          "output_type": "stream",
          "text": [
            "[[  65  134]\n",
            " [  14 3252]]\n",
            "\n",
            "\n",
            "             precision    recall  f1-score   support\n",
            "\n",
            "          1       0.82      0.33      0.47       199\n",
            "          5       0.96      1.00      0.98      3266\n",
            "\n",
            "avg / total       0.95      0.96      0.95      3465\n",
            "\n"
          ],
          "name": "stdout"
        }
      ]
    },
    {
      "metadata": {
        "id": "54TVlV-5xYXA",
        "colab_type": "code",
        "colab": {
          "base_uri": "https://localhost:8080/",
          "height": 54
        },
        "outputId": "3f99f7e0-4fc3-4294-bdeb-d26713856ed2"
      },
      "cell_type": "code",
      "source": [
        "rating_pos=df['Review Text'][8]\n",
        "rating_pos"
      ],
      "execution_count": 37,
      "outputs": [
        {
          "output_type": "execute_result",
          "data": {
            "text/plain": [
              "'I love this dress. i usually get an xs but it runs a little snug in bust so i ordered up a size. very flattering and feminine with the usual retailer flair for style.'"
            ]
          },
          "metadata": {
            "tags": []
          },
          "execution_count": 37
        }
      ]
    },
    {
      "metadata": {
        "id": "4oFl_MqNw0cL",
        "colab_type": "code",
        "colab": {
          "base_uri": "https://localhost:8080/",
          "height": 34
        },
        "outputId": "585b108e-cf76-4368-a2a9-feef1096f3e9"
      },
      "cell_type": "code",
      "source": [
        "rating_pos_trans = bow_transformer.transform([rating_pos])\n",
        "nb.predict(rating_pos_trans)[0]"
      ],
      "execution_count": 40,
      "outputs": [
        {
          "output_type": "execute_result",
          "data": {
            "text/plain": [
              "5"
            ]
          },
          "metadata": {
            "tags": []
          },
          "execution_count": 40
        }
      ]
    },
    {
      "metadata": {
        "id": "Ir4aSM77ygqc",
        "colab_type": "code",
        "colab": {
          "base_uri": "https://localhost:8080/",
          "height": 54
        },
        "outputId": "3b82f239-6f08-4cf3-a857-d2fbd94346df"
      },
      "cell_type": "code",
      "source": [
        "rating_neg=df['Review Text'][10]\n",
        "rating_neg"
      ],
      "execution_count": 47,
      "outputs": [
        {
          "output_type": "execute_result",
          "data": {
            "text/plain": [
              "'Dress runs small esp where the zipper area runs. i ordered the sp which typically fits me and it was very tight! the material on the top looks and feels very cheap that even just pulling on it will cause it to rip the fabric. pretty disappointed as it was going to be my christmas dress this year! needless to say it will be going back.'"
            ]
          },
          "metadata": {
            "tags": []
          },
          "execution_count": 47
        }
      ]
    },
    {
      "metadata": {
        "id": "oPuDx-Ucy4xN",
        "colab_type": "code",
        "colab": {
          "base_uri": "https://localhost:8080/",
          "height": 34
        },
        "outputId": "272cba6c-a75c-4c79-d763-1bce02d2735f"
      },
      "cell_type": "code",
      "source": [
        "rating_neg_trans = bow_transformer.transform([rating_neg])\n",
        "nb.predict(rating_neg_trans)[0]"
      ],
      "execution_count": 48,
      "outputs": [
        {
          "output_type": "execute_result",
          "data": {
            "text/plain": [
              "5"
            ]
          },
          "metadata": {
            "tags": []
          },
          "execution_count": 48
        }
      ]
    },
    {
      "metadata": {
        "id": "d-6F_uHWzHZM",
        "colab_type": "code",
        "colab": {
          "base_uri": "https://localhost:8080/",
          "height": 54
        },
        "outputId": "598db9de-6b64-4da4-d5c5-053be534521d"
      },
      "cell_type": "code",
      "source": [
        "rating_neg2=df['Review Text'][61]\n",
        "rating_neg2"
      ],
      "execution_count": 49,
      "outputs": [
        {
          "output_type": "execute_result",
          "data": {
            "text/plain": [
              "\"3 tags sewn in, 2 small (about 1'' long) and 1 huge (about 2'' x 3''). very itchy so i cut them out. then the thread left behind was plasticy and even more itchy! how can you make an intimates item with such itchy tags? not comfortable at all! also - i love bralettes and wear them all the time including to work. i am a b cup. however, this one is so thin and flimsy that it gives no support even to a b cup - so for me this would only be a lounging bralette - if it wasn't so itchy!\""
            ]
          },
          "metadata": {
            "tags": []
          },
          "execution_count": 49
        }
      ]
    },
    {
      "metadata": {
        "id": "-zaFEKwbzM5K",
        "colab_type": "code",
        "colab": {
          "base_uri": "https://localhost:8080/",
          "height": 34
        },
        "outputId": "ab250005-9e24-4384-868b-41976a3e548d"
      },
      "cell_type": "code",
      "source": [
        "rating_neg_trans2 = bow_transformer.transform([rating_neg2])\n",
        "nb.predict(rating_neg_trans2)[0]"
      ],
      "execution_count": 50,
      "outputs": [
        {
          "output_type": "execute_result",
          "data": {
            "text/plain": [
              "1"
            ]
          },
          "metadata": {
            "tags": []
          },
          "execution_count": 50
        }
      ]
    },
    {
      "metadata": {
        "id": "MQJ8Bc6wzWKL",
        "colab_type": "text"
      },
      "cell_type": "markdown",
      "source": [
        "**Lets predict which products are recommended **"
      ]
    },
    {
      "metadata": {
        "id": "zJqcpseizWqa",
        "colab_type": "code",
        "colab": {
          "base_uri": "https://localhost:8080/",
          "height": 204
        },
        "outputId": "4bd7bc63-9d06-4da5-87d0-851c883c47bb"
      },
      "cell_type": "code",
      "source": [
        "X_predict_recommend=df['Review Text']\n",
        "y_recommend=df['Recommended IND']\n",
        "\n",
        "bow_transformer=CountVectorizer(analyzer=text_process).fit(X_predict_recommend)\n",
        "\n",
        "X_predict_recommend = bow_transformer.transform(X_predict_recommend)\n",
        "\n",
        "\n",
        "X_train, X_test, y_train, y_test = train_test_split(X_predict_recommend, y_recommend, test_size=0.3, random_state=101)\n",
        "\n",
        "nb = MultinomialNB()\n",
        "nb.fit(X_train, y_train)\n",
        "\n",
        "predict_recommendation=nb.predict(X_test)\n",
        "\n",
        "print(confusion_matrix(y_test, predict_recommendation))\n",
        "print('\\n')\n",
        "print(classification_report(y_test, predict_recommendation))"
      ],
      "execution_count": 51,
      "outputs": [
        {
          "output_type": "stream",
          "text": [
            "[[ 588  448]\n",
            " [ 248 4615]]\n",
            "\n",
            "\n",
            "             precision    recall  f1-score   support\n",
            "\n",
            "          0       0.70      0.57      0.63      1036\n",
            "          1       0.91      0.95      0.93      4863\n",
            "\n",
            "avg / total       0.87      0.88      0.88      5899\n",
            "\n"
          ],
          "name": "stdout"
        }
      ]
    },
    {
      "metadata": {
        "id": "I1k4VCZM0wWV",
        "colab_type": "code",
        "colab": {
          "base_uri": "https://localhost:8080/",
          "height": 54
        },
        "outputId": "6e0b65a5-29f9-4458-d56b-7a8ecd1842c3"
      },
      "cell_type": "code",
      "source": [
        "rating_pos"
      ],
      "execution_count": 52,
      "outputs": [
        {
          "output_type": "execute_result",
          "data": {
            "text/plain": [
              "'I love this dress. i usually get an xs but it runs a little snug in bust so i ordered up a size. very flattering and feminine with the usual retailer flair for style.'"
            ]
          },
          "metadata": {
            "tags": []
          },
          "execution_count": 52
        }
      ]
    },
    {
      "metadata": {
        "id": "jj8HLVEe0wns",
        "colab_type": "code",
        "colab": {
          "base_uri": "https://localhost:8080/",
          "height": 34
        },
        "outputId": "a076a550-20fc-4569-c0ca-415c6b705431"
      },
      "cell_type": "code",
      "source": [
        "rating_pos_trans2 = bow_transformer.transform([rating_pos])\n",
        "nb.predict(rating_pos_trans2)[0]"
      ],
      "execution_count": 53,
      "outputs": [
        {
          "output_type": "execute_result",
          "data": {
            "text/plain": [
              "1"
            ]
          },
          "metadata": {
            "tags": []
          },
          "execution_count": 53
        }
      ]
    },
    {
      "metadata": {
        "id": "sUon4LxDzW7W",
        "colab_type": "code",
        "colab": {
          "base_uri": "https://localhost:8080/",
          "height": 54
        },
        "outputId": "65721144-b0ad-4e02-997d-25dbad4eff09"
      },
      "cell_type": "code",
      "source": [
        "rating_neg2"
      ],
      "execution_count": 54,
      "outputs": [
        {
          "output_type": "execute_result",
          "data": {
            "text/plain": [
              "\"3 tags sewn in, 2 small (about 1'' long) and 1 huge (about 2'' x 3''). very itchy so i cut them out. then the thread left behind was plasticy and even more itchy! how can you make an intimates item with such itchy tags? not comfortable at all! also - i love bralettes and wear them all the time including to work. i am a b cup. however, this one is so thin and flimsy that it gives no support even to a b cup - so for me this would only be a lounging bralette - if it wasn't so itchy!\""
            ]
          },
          "metadata": {
            "tags": []
          },
          "execution_count": 54
        }
      ]
    },
    {
      "metadata": {
        "id": "5mz_vl1UzW4d",
        "colab_type": "code",
        "colab": {
          "base_uri": "https://localhost:8080/",
          "height": 34
        },
        "outputId": "364c6721-7a1f-4748-b5d0-8c5ff7385828"
      },
      "cell_type": "code",
      "source": [
        "rating_neg_trans2 = bow_transformer.transform([rating_neg2])\n",
        "nb.predict(rating_neg_trans2)[0]"
      ],
      "execution_count": 55,
      "outputs": [
        {
          "output_type": "execute_result",
          "data": {
            "text/plain": [
              "0"
            ]
          },
          "metadata": {
            "tags": []
          },
          "execution_count": 55
        }
      ]
    }
  ]
}